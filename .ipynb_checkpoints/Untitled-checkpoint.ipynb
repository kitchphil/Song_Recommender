{
 "cells": [
  {
   "cell_type": "code",
   "execution_count": 1,
   "id": "7aa9ba99",
   "metadata": {},
   "outputs": [],
   "source": [
    "from bs4 import BeautifulSoup\n",
    "import requests\n",
    "import pandas as pd\n",
    "import re\n",
    "import random\n",
    "from pandas.io.json import json_normalize\n",
    "import numpy as np\n",
    "import matplotlib.pyplot as plt\n",
    "from sklearn.preprocessing import StandardScaler\n",
    "import numpy as np\n",
    "from sklearn.metrics import silhouette_score\n",
    "from sklearn.model_selection import train_test_split\n",
    "from sklearn.decomposition import PCA    \n",
    "import matplotlib.pyplot as plt\n",
    "from sklearn.cluster import KMeans\n",
    "import spotipy\n",
    "from spotipy.oauth2 import SpotifyClientCredentials\n",
    "from sklearn.cluster import KMeans\n",
    "import numpy as np\n",
    "\n",
    "from random import randint\n",
    "from time import sleep"
   ]
  },
  {
   "cell_type": "code",
   "execution_count": 3,
   "id": "ac2d4298",
   "metadata": {},
   "outputs": [],
   "source": [
    "final_p = pd.read_csv('song_recommender_playlist_post-scaling.csv')"
   ]
  },
  {
   "cell_type": "code",
   "execution_count": 4,
   "id": "55367340",
   "metadata": {},
   "outputs": [],
   "source": [
    "######Test To Work In Program######\n",
    "\n",
    "def songrecommend():\n",
    "    artist = input('Who is the artist: ')\n",
    "    song = input('Give Me A Song: ')\n",
    "\n",
    "\n",
    "\n",
    "    #come back and look through artists to loop and find all songs\n",
    "    results = sp.search(q=song, type='track', limit=50)\n",
    "\n",
    "    #print(results['tracks']['items'][0]['name'])\n",
    "    counter = 0\n",
    "    t = 0\n",
    "    for i in results[\"tracks\"]['items'][counter]:\n",
    "        if artist in results[\"tracks\"]['items'][counter]['album']['artists'][0]['name']:\n",
    "\n",
    "            s = results[\"tracks\"]['items'][counter]['name']\n",
    "            #print(results[\"tracks\"]['items'][counter]['name'])\n",
    "            a = results[\"tracks\"]['items'][counter]['album']['artists'][0]['name']\n",
    "            #print(results[\"tracks\"]['items'][counter]['album']['artists'][0]['name'])\n",
    "            f = (sp.audio_features(results[\"tracks\"]['items'][counter]['uri']))\n",
    "\n",
    "            df = pd.DataFrame({'artist': a, 'song': s, 'features': f})                 \n",
    "            dffeat = pd.json_normalize(df['features'])\n",
    "            dffeat = dffeat[['danceability','energy','loudness','speechiness','acousticness','instrumentalness','liveness','valence','tempo']] \n",
    "            #df = df[['artist','song']]\n",
    "            #dffeat = pd.concat([df,dffeat],axis = 1)\n",
    "\n",
    "            cluster = kmeans.predict(dffeat)\n",
    "\n",
    "            #print(cluster)\n",
    "\n",
    "            songrec = final_p[final_p['cluster'] == cluster[0]]\n",
    "\n",
    "            #songrec\n",
    "            ran = random.randint(0,len(songrec))\n",
    "            songs = songrec.iloc[ran]['song']\n",
    "            artists = songrec.iloc[ran]['artist']\n",
    "            recommendation_song.config(text=f\"{songs}\")\n",
    "            recommendation_artist.config(text=f\"{artist}\")\n",
    "     \n",
    "\n",
    "            #print(final_p[final_p['cluster'] == cluster].iloc[random.randint(0,len(final_p[final_p['cluster'] == cluster]))])\n",
    "            #print(cluster)\n",
    "            #display(final_p['cluster'].iloc[random.randint(0,len(final_p))].np.where(final_p[final_p['cluster'] == cluster[0]]))\n",
    "            t += 1                  \n",
    "            break\n",
    "        else:\n",
    "            pass\n",
    "\n",
    "        counter += 1\n",
    "\n",
    "    if t == 0:\n",
    "        print(\"I'm sorry, we can't find that song\")\n"
   ]
  },
  {
   "cell_type": "code",
   "execution_count": null,
   "id": "78269b91",
   "metadata": {},
   "outputs": [
    {
     "name": "stdout",
     "output_type": "stream",
     "text": [
      "Who is the artist: The Beatles\n",
      "Give Me A Song: Yesterday\n"
     ]
    },
    {
     "name": "stderr",
     "output_type": "stream",
     "text": [
      "Exception in Tkinter callback\n",
      "Traceback (most recent call last):\n",
      "  File \"/opt/anaconda3/lib/python3.9/tkinter/__init__.py\", line 1892, in __call__\n",
      "    return self.func(*args)\n",
      "  File \"/var/folders/sm/8s2c1j894rq6v788yfhxt27r0000gn/T/ipykernel_13725/1113360154.py\", line 10, in songrecommend\n",
      "    results = sp.search(q=song, type='track', limit=50)\n",
      "NameError: name 'sp' is not defined\n"
     ]
    }
   ],
   "source": [
    "from tkinter import *\n",
    "# def song_rec():\n",
    "# \tsongrec =\n",
    "# \trecommendation_result_label.config(text=f\"{songrec}\")\n",
    "window = Tk()\n",
    "window.title(\"Spotify Song Recommender\")\n",
    "window.minsize(width=400, height=300)\n",
    "window.config(padx=90, pady=100)\n",
    "#Create GUI:\n",
    "song = Entry(width=50)\n",
    "artist = Entry(width=50)\n",
    "song.grid(column=1, row=0)\n",
    "artist.grid(column=1, row=1)\n",
    "song_label = Label(text=\"Song\")\n",
    "artist_label = Label(text=\"Artist\")\n",
    "song_label.grid(column=0, row=0)\n",
    "artist_label.grid(column=0, row=1)\n",
    "# print(input.get())\n",
    "recommend_button = Button(text=\"Recommend\", command=songrecommend)\n",
    "recommend_button.grid(column=1, row=2)\n",
    "recommendation_result_label = Label()\n",
    "recommendation_result_label.grid(column=0, row=2)\n",
    "recommendation_result_label.config(padx=10, pady=10)\n",
    "recommendation_song = Label(text=\"Recommended Song:\")\n",
    "recommendation_song.grid(column=0, row=3)\n",
    "recommendation_song.config(padx=10, pady=10)\n",
    "recommendation_artist = Label(text=\"From:\")\n",
    "recommendation_artist.grid(column=0, row=4)\n",
    "recommendation_artist.config(padx=10, pady=10)\n",
    "window.mainloop()"
   ]
  },
  {
   "cell_type": "code",
   "execution_count": null,
   "id": "cdb46494",
   "metadata": {},
   "outputs": [],
   "source": []
  }
 ],
 "metadata": {
  "kernelspec": {
   "display_name": "Python 3 (ipykernel)",
   "language": "python",
   "name": "python3"
  },
  "language_info": {
   "codemirror_mode": {
    "name": "ipython",
    "version": 3
   },
   "file_extension": ".py",
   "mimetype": "text/x-python",
   "name": "python",
   "nbconvert_exporter": "python",
   "pygments_lexer": "ipython3",
   "version": "3.9.7"
  }
 },
 "nbformat": 4,
 "nbformat_minor": 5
}
